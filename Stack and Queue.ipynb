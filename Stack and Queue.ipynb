{
 "cells": [
  {
   "cell_type": "markdown",
   "metadata": {},
   "source": [
    "## Stack and Queue"
   ]
  },
  {
   "cell_type": "code",
   "execution_count": null,
   "metadata": {},
   "outputs": [],
   "source": [
    "class Stack:\n",
    "    def __init__(self):\n",
    "        self.list=[]\n",
    "    def Add(self,item):\n",
    "        self.list.append(item)\n",
    "    def Addlist(self,item):\n",
    "        self.list.extend(item)\n",
    "    def Remove(self):\n",
    "        self.list.pop()\n",
    "\n",
    "\n",
    "Obj = Stack()\n",
    "\n",
    "def AddStock():\n",
    "    while True:\n",
    "        if input(\"Add more:Y/N\")==\"Y\":\n",
    "            Obj.Add(int(input(\"Add Stock: \")))\n",
    "        else:\n",
    "            print(Obj.list)\n",
    "            break\n",
    "\n",
    "def Removestock():\n",
    "    while True:\n",
    "        if input(\"Remove Stock:Y/N\")==\"Y\":\n",
    "            Obj.Remove()\n",
    "        else:\n",
    "            print(Obj.list)\n",
    "            break\n",
    "\n",
    "# AddStock()\n",
    "# Removestock()\n",
    "# Obj.Add(...)\n",
    "# Obj.Addlist([...])\n",
    "# Obj.Remove()"
   ]
  }
 ],
 "metadata": {
  "language_info": {
   "name": "python"
  }
 },
 "nbformat": 4,
 "nbformat_minor": 2
}
